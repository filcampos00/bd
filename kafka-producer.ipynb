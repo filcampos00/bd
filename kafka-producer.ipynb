{
 "cells": [
  {
   "cell_type": "code",
   "execution_count": null,
   "id": "initial_id",
   "metadata": {
    "collapsed": true
   },
   "outputs": [],
   "source": [
    "import json\n",
    "import time\n",
    "\n",
    "import yfinance as yf\n",
    "from kafka import KafkaProducer"
   ]
  },
  {
   "metadata": {},
   "cell_type": "code",
   "outputs": [],
   "execution_count": null,
   "source": [
    "producer = KafkaProducer(\n",
    "    bootstrap_servers='10.204.131.11:9092',\n",
    "    value_serializer=lambda v: json.dumps(v).encode('utf-8')\n",
    ")\n",
    "\n",
    "TICKERS = ['AAPL', 'MSFT', 'GOOG', 'AMZN', 'V']"
   ],
   "id": "97ffcee4a9f7e7e4"
  },
  {
   "metadata": {},
   "cell_type": "code",
   "outputs": [],
   "execution_count": null,
   "source": [
    "# fetch real-time data for all tickers\n",
    "def fetch_data():\n",
    "    data = {}\n",
    "    for ticker in TICKERS:\n",
    "        ticker_data = yf.download(ticker, interval=\"1m\", period=\"1d\")\n",
    "        # Convert the last row of the DataFrame to a dictionary\n",
    "        last_row = ticker_data.tail(1).to_dict(orient='records')[0]\n",
    "        data[ticker] = last_row\n",
    "    return data"
   ],
   "id": "69615ead6735ec2e"
  },
  {
   "metadata": {},
   "cell_type": "code",
   "outputs": [],
   "execution_count": null,
   "source": [
    "try:\n",
    "    while True:\n",
    "        data = fetch_data()\n",
    "\n",
    "        for ticker, ticker_data in data.items():\n",
    "            # Convert data to JSON and send it\n",
    "            data_json = json.dumps({ticker: ticker_data})\n",
    "            producer.send('g05in', data_json)\n",
    "        # Wait 1 minute before fetching new data\n",
    "        time.sleep(60)\n",
    "        \n",
    "except KeyboardInterrupt:\n",
    "    producer.flush()\n",
    "    producer.close()"
   ],
   "id": "24f5729e02e2b8cc"
  }
 ],
 "metadata": {
  "kernelspec": {
   "display_name": "Python 3",
   "language": "python",
   "name": "python3"
  },
  "language_info": {
   "codemirror_mode": {
    "name": "ipython",
    "version": 2
   },
   "file_extension": ".py",
   "mimetype": "text/x-python",
   "name": "python",
   "nbconvert_exporter": "python",
   "pygments_lexer": "ipython2",
   "version": "2.7.6"
  }
 },
 "nbformat": 4,
 "nbformat_minor": 5
}
