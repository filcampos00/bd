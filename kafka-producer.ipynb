{
 "cells": [
  {
   "cell_type": "code",
   "execution_count": null,
   "id": "initial_id",
   "metadata": {
    "collapsed": true
   },
   "outputs": [],
   "source": [
    "from kafka import KafkaProducer\n",
    "import yfinance as yf\n",
    "import json\n",
    "import time"
   ]
  },
  {
   "metadata": {},
   "cell_type": "code",
   "outputs": [],
   "execution_count": null,
   "source": [
    "# Define the Kafka producer\n",
    "producer = KafkaProducer(\n",
    "    bootstrap_servers='10.204.131.11:9092',\n",
    "    value_serializer=lambda v: json.dumps(v).encode('utf-8')\n",
    ")\n",
    "\n",
    "TICKERS = ['AAPL', 'MSFT', 'GOOG', 'AMZN', 'V']"
   ],
   "id": "97ffcee4a9f7e7e4"
  },
  {
   "metadata": {},
   "cell_type": "code",
   "outputs": [],
   "execution_count": null,
   "source": [
    "# fetch real-time data for all tickers\n",
    "def fetch_data():\n",
    "    data = {}\n",
    "    for ticker in TICKERS:\n",
    "        ticker_data = yf.download(ticker, interval=\"1m\", period=\"1d\")\n",
    "        # Convert the last row of the DataFrame to a dictionary\n",
    "        last_row = ticker_data.tail(1).to_dict(orient='records')[0]\n",
    "        data[ticker] = last_row\n",
    "    return data"
   ],
   "id": "69615ead6735ec2e"
  },
  {
   "metadata": {},
   "cell_type": "code",
   "outputs": [],
   "execution_count": null,
   "source": [
    "try:\n",
    "    while True:\n",
    "        # Fetch data for all tickers\n",
    "        data = fetch_data()\n",
    "\n",
    "        # Prepare and send data to Kafka\n",
    "        for ticker, ticker_data in data.items():\n",
    "            # Convert data to JSON\n",
    "            data_json = json.dumps({ticker: ticker_data})\n",
    "            # Send data to Kafka topic\n",
    "            producer.send('g05in', data_json)\n",
    "        print(data)\n",
    "        # Wait for a minute before fetching new data\n",
    "        time.sleep(60)\n",
    "except KeyboardInterrupt:\n",
    "    # Flush and close the producer\n",
    "    producer.flush()\n",
    "    producer.close()"
   ],
   "id": "24f5729e02e2b8cc"
  },
  {
   "metadata": {},
   "cell_type": "markdown",
   "source": "{'AAPL': {'Open': 192.16000366210938, 'High': 192.47999572753906, 'Low': 192.05999755859375, 'Close': 192.47000122070312, 'Adj Close': 192.47000122070312, 'Volume': 2016314}, 'MSFT': {'Open': 413.94000244140625, 'High': 415.7300109863281, 'Low': 413.94000244140625, 'Close': 415.3074951171875, 'Adj Close': 415.3074951171875, 'Volume': 1296300}, 'GOOG': {'Open': 173.85000610351562, 'High': 174.07000732421875, 'Low': 173.67999267578125, 'Close': 174.0399932861328, 'Adj Close': 174.0399932861328, 'Volume': 792362}, 'AMZN': {'Open': 176.19500732421875, 'High': 176.57000732421875, 'Low': 176.01499938964844, 'Close': 176.46499633789062, 'Adj Close': 176.46499633789062, 'Volume': 1573871}, 'V': {'Open': 272.3599853515625, 'High': 272.760009765625, 'Low': 271.9800109863281, 'Close': 272.6099853515625, 'Adj Close': 272.6099853515625, 'Volume': 362174}}",
   "id": "7f6ead35e32550a0"
  }
 ],
 "metadata": {
  "kernelspec": {
   "display_name": "Python 3",
   "language": "python",
   "name": "python3"
  },
  "language_info": {
   "codemirror_mode": {
    "name": "ipython",
    "version": 2
   },
   "file_extension": ".py",
   "mimetype": "text/x-python",
   "name": "python",
   "nbconvert_exporter": "python",
   "pygments_lexer": "ipython2",
   "version": "2.7.6"
  }
 },
 "nbformat": 4,
 "nbformat_minor": 5
}
