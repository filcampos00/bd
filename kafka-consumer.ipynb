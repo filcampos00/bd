{
 "cells": [
  {
   "cell_type": "code",
   "execution_count": null,
   "id": "initial_id",
   "metadata": {
    "collapsed": true
   },
   "outputs": [],
   "source": [
    "from kafka import KafkaConsumer\n",
    "import json\n",
    "\n",
    "# Define the Kafka consumer\n",
    "consumer = KafkaConsumer(\n",
    "    'g05in',  # Kafka topic to consume from\n",
    "    bootstrap_servers='10.204.131.11:9092',  # List of brokers\n",
    "    value_deserializer=lambda v: json.loads(v.decode('utf-8'))  # Deserializer function for the messages\n",
    ")\n",
    "\n",
    "\n",
    "try:\n",
    "    # Consume messages\n",
    "    for message in consumer:\n",
    "        # Initialize an empty dictionary to store the data\n",
    "        ticker_data_dict = {}\n",
    "\n",
    "        # Convert the JSON string to a dictionary\n",
    "        message_dict = json.loads(message.value)\n",
    "\n",
    "        # Parse the inner JSON\n",
    "        for ticker, data in message_dict.items():\n",
    "            # Store the data in the dictionary\n",
    "            ticker_data_dict[ticker] = data\n",
    "\n",
    "        # Print the dictionary\n",
    "        print(ticker_data_dict)\n",
    "\n",
    "except KeyboardInterrupt:\n",
    "    # Close the consumer\n",
    "    consumer.close()"
   ]
  }
 ],
 "metadata": {
  "kernelspec": {
   "display_name": "Python 3",
   "language": "python",
   "name": "python3"
  },
  "language_info": {
   "codemirror_mode": {
    "name": "ipython",
    "version": 2
   },
   "file_extension": ".py",
   "mimetype": "text/x-python",
   "name": "python",
   "nbconvert_exporter": "python",
   "pygments_lexer": "ipython2",
   "version": "2.7.6"
  }
 },
 "nbformat": 4,
 "nbformat_minor": 5
}
