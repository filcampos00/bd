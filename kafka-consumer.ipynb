{
 "cells": [
  {
   "cell_type": "code",
   "execution_count": null,
   "id": "initial_id",
   "metadata": {
    "collapsed": true
   },
   "outputs": [],
   "source": [
    "import json\n",
    "\n",
    "from kafka import KafkaConsumer\n",
    "from pyspark.ml.regression import LinearRegressionModel\n",
    "from pyspark.sql import SparkSession\n",
    "\n",
    "HDFS_PATH = 'hdfs://10.84.129.52:9000/trab/g05'\n",
    "TICKERS = ['AAPL', 'MSFT', 'GOOG', 'AMZN', 'V']\n",
    "\n",
    "# Create a SparkSession\n",
    "spark = SparkSession.builder.getOrCreate()\n",
    "\n",
    "# Define the Kafka consumer\n",
    "consumer = KafkaConsumer(\n",
    "    'g05in',  # Kafka topic to consume from\n",
    "    bootstrap_servers='10.204.131.11:9092',  # List of brokers\n",
    "    value_deserializer=lambda v: json.loads(v.decode('utf-8'))  # Deserializer function for the messages\n",
    ")\n",
    "\n",
    "# Load the saved models\n",
    "models = {ticker: LinearRegressionModel.load(HDFS_PATH + '/models/' + ticker + '_model') for ticker in TICKERS}\n",
    "\n",
    "try:\n",
    "    # Consume messages\n",
    "    for message in consumer:\n",
    "        # Convert the JSON string to a dictionary\n",
    "        message_dict = json.loads(message.value)\n",
    "\n",
    "        # Parse the inner JSON\n",
    "        for ticker, data in message_dict.items():\n",
    "            # Transform the data into the format expected by the model\n",
    "            features = [data['Low'], data['Open'], data['Volume'], data['High'], data['Close']]\n",
    "            features_df = spark.createDataFrame([features], [\"Low\", \"Open\", \"Volume\", \"High\", \"Close\"])\n",
    "\n",
    "            # Use the model to make a prediction\n",
    "            prediction = models[ticker].transform(features_df).select(\"prediction\").first()[0]\n",
    "\n",
    "            # Compare the predicted value with the real-time value\n",
    "            real_time_value = data['Close']\n",
    "            difference = real_time_value - prediction\n",
    "\n",
    "            # Print the result\n",
    "            print(\n",
    "                f\"For {ticker}, the real-time value is {real_time_value}, the predicted value is {prediction}, and the difference is {difference}\")\n",
    "\n",
    "\n",
    "\n",
    "except KeyboardInterrupt:\n",
    "    consumer.close()\n",
    "    spark.stop()"
   ]
  }
 ],
 "metadata": {
  "kernelspec": {
   "display_name": "Python 3",
   "language": "python",
   "name": "python3"
  },
  "language_info": {
   "codemirror_mode": {
    "name": "ipython",
    "version": 2
   },
   "file_extension": ".py",
   "mimetype": "text/x-python",
   "name": "python",
   "nbconvert_exporter": "python",
   "pygments_lexer": "ipython2",
   "version": "2.7.6"
  }
 },
 "nbformat": 4,
 "nbformat_minor": 5
}
