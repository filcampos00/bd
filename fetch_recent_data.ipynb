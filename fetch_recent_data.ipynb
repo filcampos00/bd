{
 "cells": [
  {
   "metadata": {},
   "cell_type": "code",
   "execution_count": null,
   "source": [
    "import yfinance as yf\n",
    "from pyspark.sql import SparkSession\n",
    "from pyspark.sql.functions import to_date, date_format\n",
    "\n",
    "\n",
    "# Create a SparkSession\n",
    "spark = SparkSession.builder.getOrCreate()\n",
    "\n",
    "def fetch_recent_data(tickers, start_date, end_date, output_dir):\n",
    "    for ticker in tickers:\n",
    "        # Fetch data using yfinance\n",
    "        data = yf.download(ticker, start=start_date, end=end_date)\n",
    "\n",
    "        # Convert the pandas DataFrame to a Spark DataFrame\n",
    "        data_spark = spark.createDataFrame(data.reset_index())\n",
    "\n",
    "        # Convert the 'Date' column to a date type and format it as \"dd-MM-yyyy\"\n",
    "        data_spark = data_spark.withColumn('Date', date_format(to_date('Date', 'yyyy-MM-dd'), 'dd-MM-yyyy'))\n",
    "\n",
    "        # Reorder columns\n",
    "        columns_order = ['Date', 'Low', 'Open', 'Volume', 'High', 'Close', 'Adj Close']\n",
    "        data_spark = data_spark.select(columns_order)\n",
    "\n",
    "        # Rename columns to match the required format\n",
    "        data_spark = data_spark.withColumnRenamed('Adj Close', 'Adjusted Close')\n",
    "\n",
    "        # Save to CSV\n",
    "        output_file = output_dir + ticker + '/recent_data.csv'\n",
    "        data_spark.write.csv(output_file, header=True, mode='overwrite')\n",
    "\n",
    "# Define the tickers and date range\n",
    "TICKERS = ['AAPL', 'MSFT', 'GOOG', 'AMZN', 'V']\n",
    "start_date = '2022-12-13'\n",
    "end_date = '2024-05-27'\n",
    "\n",
    "HDFS_PATH = 'hdfs://10.84.129.52:9000/trab/g05'\n",
    "output_dir = HDFS_PATH + '/data/'\n",
    "\n",
    "# Fetch recent data and save to CSV\n",
    "fetch_recent_data(TICKERS, start_date, end_date, output_dir)\n",
    "\n",
    "spark.stop()"
   ],
   "id": "b2d3eb85a7686c8a",
   "outputs": []
  }
 ],
 "metadata": {
  "kernelspec": {
   "display_name": "Python 3",
   "language": "python",
   "name": "python3"
  },
  "language_info": {
   "codemirror_mode": {
    "name": "ipython",
    "version": 2
   },
   "file_extension": ".py",
   "mimetype": "text/x-python",
   "name": "python",
   "nbconvert_exporter": "python",
   "pygments_lexer": "ipython2",
   "version": "2.7.6"
  }
 },
 "nbformat": 4,
 "nbformat_minor": 5
}
