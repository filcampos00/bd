{
 "cells": [
  {
   "cell_type": "code",
   "id": "initial_id",
   "metadata": {
    "collapsed": true,
    "ExecuteTime": {
     "end_time": "2024-05-28T15:02:41.449713Z",
     "start_time": "2024-05-28T15:02:41.106464Z"
    }
   },
   "source": [
    "import os\n",
    "import pandas as pd\n",
    "\n",
    "def aggregate_stock_data(data_dir, output_file):\n",
    "    # Initialize an empty DataFrame\n",
    "    aggregated_data = pd.DataFrame()\n",
    "\n",
    "    # Iterate over each CSV file in the data directory\n",
    "    for file_name in os.listdir(data_dir):\n",
    "        if file_name.endswith('.csv'):\n",
    "            # Extract the ticker symbol from the file name\n",
    "            ticker = file_name.split('.')[0]\n",
    "\n",
    "            # Read the CSV file into a DataFrame\n",
    "            file_path = os.path.join(data_dir, file_name)\n",
    "            df = pd.read_csv(file_path)\n",
    "\n",
    "            # Add a column for the ticker symbol\n",
    "            df['Ticker'] = ticker\n",
    "\n",
    "            # Reorder the columns to place 'Ticker' before 'Date'\n",
    "            columns_order = ['Ticker', 'Date', 'Low', 'Open', 'Volume', 'High', 'Close', 'Adjusted Close']\n",
    "            df = df[columns_order]\n",
    "\n",
    "            # Append the DataFrame to the aggregated DataFrame\n",
    "            aggregated_data = pd.concat([aggregated_data, df], ignore_index=True)\n",
    "\n",
    "    # Save the aggregated data to a new CSV file\n",
    "    aggregated_data.to_csv(output_file, index=False)\n",
    "\n",
    "# Specify the directory containing the CSV files and the output file name\n",
    "data_directory = 'data'\n",
    "output_csv = 'aggregated_data.csv'\n",
    "\n",
    "# Run the aggregation function\n",
    "aggregate_stock_data(data_directory, output_csv)\n",
    "\n",
    "# Display the first few rows of the aggregated data to confirm it worked\n",
    "aggregated_data = pd.read_csv(output_csv)\n",
    "aggregated_data.head()\n"
   ],
   "execution_count": 7,
   "outputs": []
  },
  {
   "metadata": {
    "ExecuteTime": {
     "end_time": "2024-05-28T15:02:41.573045Z",
     "start_time": "2024-05-28T15:02:41.450728Z"
    }
   },
   "cell_type": "code",
   "source": [
    "import yfinance as yf\n",
    "import pandas as pd\n",
    "from datetime import datetime\n",
    "\n",
    "def fetch_recent_data(tickers, start_date, end_date, output_file):\n",
    "    all_data = []\n",
    "\n",
    "    for ticker in tickers:\n",
    "        # Fetch data using yfinance\n",
    "        data = yf.download(ticker, start=start_date, end=end_date)\n",
    "\n",
    "        # Reset index to move Date from index to a column\n",
    "        data.reset_index(inplace=True)\n",
    "\n",
    "        # Add the ticker column\n",
    "        data['Ticker'] = ticker\n",
    "\n",
    "        # Reorder columns\n",
    "        columns_order = ['Ticker', 'Date', 'Low', 'Open', 'Volume', 'High', 'Close', 'Adj Close']\n",
    "        data = data[columns_order]\n",
    "\n",
    "        # Rename columns to match the required format\n",
    "        data.rename(columns={'Adj Close': 'Adjusted Close'}, inplace=True)\n",
    "\n",
    "        all_data.append(data)\n",
    "\n",
    "    # Concatenate all the data into a single DataFrame\n",
    "    all_data_df = pd.concat(all_data, ignore_index=True)\n",
    "\n",
    "    # Save to CSV\n",
    "    all_data_df.to_csv(output_file, index=False)\n",
    "\n",
    "# Define the tickers and date range\n",
    "tickers = ['AAPL', 'MSFT', 'GOOG', 'AMZN', 'V']\n",
    "start_date = '2023-01-01'\n",
    "end_date = '2024-05-24'\n",
    "output_csv_recent = 'recent_data.csv'\n",
    "\n",
    "# Fetch recent data and save to CSV\n",
    "fetch_recent_data(tickers, start_date, end_date, output_csv_recent)\n",
    "\n",
    "# Display the first few rows of the recent data to confirm it worked\n",
    "recent_data = pd.read_csv(output_csv_recent)\n",
    "recent_data.head()\n"
   ],
   "id": "2f5e8421e2c20006",
   "execution_count": 8,
   "outputs": []
  }
 ],
 "metadata": {
  "kernelspec": {
   "display_name": "Python 3",
   "language": "python",
   "name": "python3"
  },
  "language_info": {
   "codemirror_mode": {
    "name": "ipython",
    "version": 2
   },
   "file_extension": ".py",
   "mimetype": "text/x-python",
   "name": "python",
   "nbconvert_exporter": "python",
   "pygments_lexer": "ipython2",
   "version": "2.7.6"
  }
 },
 "nbformat": 4,
 "nbformat_minor": 5
}
